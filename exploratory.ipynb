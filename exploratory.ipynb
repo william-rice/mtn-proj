{
 "cells": [
  {
   "cell_type": "code",
   "execution_count": 1,
   "metadata": {},
   "outputs": [],
   "source": [
    "import os\n",
    "import numpy as np\n",
    "import pandas as pd\n",
    "import json\n",
    "import matplotlib.pyplot as plt"
   ]
  },
  {
   "cell_type": "code",
   "execution_count": 6,
   "metadata": {},
   "outputs": [],
   "source": [
    "with open(os.path.expanduser(\"~/mtn-proj/foster-falls.json\"), \"r\") as file:\n",
    "    data = json.load(file)\n",
    "    routes = pd.DataFrame(data['routes']) # ignore the successful request flag"
   ]
  },
  {
   "cell_type": "code",
   "execution_count": 7,
   "metadata": {
    "scrolled": true
   },
   "outputs": [
    {
     "data": {
      "text/html": [
       "<div>\n",
       "<style scoped>\n",
       "    .dataframe tbody tr th:only-of-type {\n",
       "        vertical-align: middle;\n",
       "    }\n",
       "\n",
       "    .dataframe tbody tr th {\n",
       "        vertical-align: top;\n",
       "    }\n",
       "\n",
       "    .dataframe thead th {\n",
       "        text-align: right;\n",
       "    }\n",
       "</style>\n",
       "<table border=\"1\" class=\"dataframe\">\n",
       "  <thead>\n",
       "    <tr style=\"text-align: right;\">\n",
       "      <th></th>\n",
       "      <th>id</th>\n",
       "      <th>name</th>\n",
       "      <th>type</th>\n",
       "      <th>rating</th>\n",
       "      <th>stars</th>\n",
       "      <th>starVotes</th>\n",
       "      <th>pitches</th>\n",
       "      <th>location</th>\n",
       "      <th>url</th>\n",
       "      <th>imgSqSmall</th>\n",
       "      <th>imgSmall</th>\n",
       "      <th>imgSmallMed</th>\n",
       "      <th>imgMedium</th>\n",
       "      <th>longitude</th>\n",
       "      <th>latitude</th>\n",
       "    </tr>\n",
       "  </thead>\n",
       "  <tbody>\n",
       "    <tr>\n",
       "      <th>0</th>\n",
       "      <td>108668668</td>\n",
       "      <td>Holy War</td>\n",
       "      <td>Sport</td>\n",
       "      <td>5.9</td>\n",
       "      <td>4.7</td>\n",
       "      <td>120</td>\n",
       "      <td></td>\n",
       "      <td>[Tennessee, Foster Falls, Wall of Useless Conf...</td>\n",
       "      <td>https://www.mountainproject.com/route/10866866...</td>\n",
       "      <td>https://cdn2.apstatic.com/photos/climb/1101650...</td>\n",
       "      <td>https://cdn2.apstatic.com/photos/climb/1101650...</td>\n",
       "      <td>https://cdn2.apstatic.com/photos/climb/1101650...</td>\n",
       "      <td>https://cdn2.apstatic.com/photos/climb/1101650...</td>\n",
       "      <td>-85.6991</td>\n",
       "      <td>35.1917</td>\n",
       "    </tr>\n",
       "    <tr>\n",
       "      <th>1</th>\n",
       "      <td>105978792</td>\n",
       "      <td>Wristlets</td>\n",
       "      <td>Sport</td>\n",
       "      <td>5.11c/d</td>\n",
       "      <td>4.7</td>\n",
       "      <td>81</td>\n",
       "      <td></td>\n",
       "      <td>[Tennessee, Foster Falls, White Wall]</td>\n",
       "      <td>https://www.mountainproject.com/route/10597879...</td>\n",
       "      <td>https://cdn2.apstatic.com/photos/climb/1124802...</td>\n",
       "      <td>https://cdn2.apstatic.com/photos/climb/1124802...</td>\n",
       "      <td>https://cdn2.apstatic.com/photos/climb/1124802...</td>\n",
       "      <td>https://cdn2.apstatic.com/photos/climb/1124802...</td>\n",
       "      <td>-85.6778</td>\n",
       "      <td>35.1795</td>\n",
       "    </tr>\n",
       "    <tr>\n",
       "      <th>2</th>\n",
       "      <td>106617956</td>\n",
       "      <td>Standing Room Only</td>\n",
       "      <td>Sport</td>\n",
       "      <td>5.11a</td>\n",
       "      <td>4.6</td>\n",
       "      <td>124</td>\n",
       "      <td>1</td>\n",
       "      <td>[Tennessee, Foster Falls, Crime Buttress]</td>\n",
       "      <td>https://www.mountainproject.com/route/10661795...</td>\n",
       "      <td>https://cdn2.apstatic.com/photos/climb/1181302...</td>\n",
       "      <td>https://cdn2.apstatic.com/photos/climb/1181302...</td>\n",
       "      <td>https://cdn2.apstatic.com/photos/climb/1181302...</td>\n",
       "      <td>https://cdn2.apstatic.com/photos/climb/1181302...</td>\n",
       "      <td>-85.6821</td>\n",
       "      <td>35.1773</td>\n",
       "    </tr>\n",
       "    <tr>\n",
       "      <th>3</th>\n",
       "      <td>107301050</td>\n",
       "      <td>Something's Always Wrong</td>\n",
       "      <td>Sport</td>\n",
       "      <td>5.10d</td>\n",
       "      <td>4.5</td>\n",
       "      <td>115</td>\n",
       "      <td></td>\n",
       "      <td>[Tennessee, Foster Falls, The Right Bunker]</td>\n",
       "      <td>https://www.mountainproject.com/route/10730105...</td>\n",
       "      <td>https://cdn2.apstatic.com/photos/climb/1078491...</td>\n",
       "      <td>https://cdn2.apstatic.com/photos/climb/1078491...</td>\n",
       "      <td>https://cdn2.apstatic.com/photos/climb/1078491...</td>\n",
       "      <td>https://cdn2.apstatic.com/photos/climb/1078491...</td>\n",
       "      <td>-85.6792</td>\n",
       "      <td>35.1791</td>\n",
       "    </tr>\n",
       "    <tr>\n",
       "      <th>4</th>\n",
       "      <td>109079486</td>\n",
       "      <td>Ruben</td>\n",
       "      <td>Sport</td>\n",
       "      <td>5.9</td>\n",
       "      <td>4.4</td>\n",
       "      <td>117</td>\n",
       "      <td>1</td>\n",
       "      <td>[Tennessee, Foster Falls, Jimmywood]</td>\n",
       "      <td>https://www.mountainproject.com/route/10907948...</td>\n",
       "      <td>https://cdn2.apstatic.com/photos/climb/1125374...</td>\n",
       "      <td>https://cdn2.apstatic.com/photos/climb/1125374...</td>\n",
       "      <td>https://cdn2.apstatic.com/photos/climb/1125374...</td>\n",
       "      <td>https://cdn2.apstatic.com/photos/climb/1125374...</td>\n",
       "      <td>-85.6825</td>\n",
       "      <td>35.1771</td>\n",
       "    </tr>\n",
       "  </tbody>\n",
       "</table>\n",
       "</div>"
      ],
      "text/plain": [
       "          id                      name   type   rating  stars  starVotes  \\\n",
       "0  108668668                  Holy War  Sport      5.9    4.7        120   \n",
       "1  105978792                 Wristlets  Sport  5.11c/d    4.7         81   \n",
       "2  106617956        Standing Room Only  Sport    5.11a    4.6        124   \n",
       "3  107301050  Something's Always Wrong  Sport    5.10d    4.5        115   \n",
       "4  109079486                     Ruben  Sport      5.9    4.4        117   \n",
       "\n",
       "  pitches                                           location  \\\n",
       "0          [Tennessee, Foster Falls, Wall of Useless Conf...   \n",
       "1                      [Tennessee, Foster Falls, White Wall]   \n",
       "2       1          [Tennessee, Foster Falls, Crime Buttress]   \n",
       "3                [Tennessee, Foster Falls, The Right Bunker]   \n",
       "4       1               [Tennessee, Foster Falls, Jimmywood]   \n",
       "\n",
       "                                                 url  \\\n",
       "0  https://www.mountainproject.com/route/10866866...   \n",
       "1  https://www.mountainproject.com/route/10597879...   \n",
       "2  https://www.mountainproject.com/route/10661795...   \n",
       "3  https://www.mountainproject.com/route/10730105...   \n",
       "4  https://www.mountainproject.com/route/10907948...   \n",
       "\n",
       "                                          imgSqSmall  \\\n",
       "0  https://cdn2.apstatic.com/photos/climb/1101650...   \n",
       "1  https://cdn2.apstatic.com/photos/climb/1124802...   \n",
       "2  https://cdn2.apstatic.com/photos/climb/1181302...   \n",
       "3  https://cdn2.apstatic.com/photos/climb/1078491...   \n",
       "4  https://cdn2.apstatic.com/photos/climb/1125374...   \n",
       "\n",
       "                                            imgSmall  \\\n",
       "0  https://cdn2.apstatic.com/photos/climb/1101650...   \n",
       "1  https://cdn2.apstatic.com/photos/climb/1124802...   \n",
       "2  https://cdn2.apstatic.com/photos/climb/1181302...   \n",
       "3  https://cdn2.apstatic.com/photos/climb/1078491...   \n",
       "4  https://cdn2.apstatic.com/photos/climb/1125374...   \n",
       "\n",
       "                                         imgSmallMed  \\\n",
       "0  https://cdn2.apstatic.com/photos/climb/1101650...   \n",
       "1  https://cdn2.apstatic.com/photos/climb/1124802...   \n",
       "2  https://cdn2.apstatic.com/photos/climb/1181302...   \n",
       "3  https://cdn2.apstatic.com/photos/climb/1078491...   \n",
       "4  https://cdn2.apstatic.com/photos/climb/1125374...   \n",
       "\n",
       "                                           imgMedium  longitude  latitude  \n",
       "0  https://cdn2.apstatic.com/photos/climb/1101650...   -85.6991   35.1917  \n",
       "1  https://cdn2.apstatic.com/photos/climb/1124802...   -85.6778   35.1795  \n",
       "2  https://cdn2.apstatic.com/photos/climb/1181302...   -85.6821   35.1773  \n",
       "3  https://cdn2.apstatic.com/photos/climb/1078491...   -85.6792   35.1791  \n",
       "4  https://cdn2.apstatic.com/photos/climb/1125374...   -85.6825   35.1771  "
      ]
     },
     "execution_count": 7,
     "metadata": {},
     "output_type": "execute_result"
    }
   ],
   "source": [
    "routes.head()"
   ]
  },
  {
   "cell_type": "code",
   "execution_count": 10,
   "metadata": {},
   "outputs": [],
   "source": [
    "# How can I clean this up using array indexing?\n",
    "ffid = []\n",
    "\n",
    "for location in routes['location']:\n",
    "    ffid.append(\"Foster Falls\" in location)\n",
    "        \n",
    "ff = routes[ffid]\n",
    "#print(\" Foster Falls routes: {}\\n\".format(len(ff)), \"Total routes: {}\".format(len(routes)))"
   ]
  },
  {
   "cell_type": "code",
   "execution_count": 29,
   "metadata": {},
   "outputs": [
    {
     "name": "stdout",
     "output_type": "stream",
     "text": [
      "236 routes near foster falls, 141 routes IN foster falls.\n"
     ]
    }
   ],
   "source": [
    "print(\"{} routes near foster falls, {} routes IN foster falls.\".format(len(routes), len(ff)))"
   ]
  },
  {
   "cell_type": "code",
   "execution_count": 31,
   "metadata": {},
   "outputs": [
    {
     "data": {
      "text/plain": [
       "Index(['id', 'name', 'type', 'rating', 'stars', 'starVotes', 'pitches',\n",
       "       'location', 'url', 'imgSqSmall', 'imgSmall', 'imgSmallMed', 'imgMedium',\n",
       "       'longitude', 'latitude'],\n",
       "      dtype='object')"
      ]
     },
     "execution_count": 31,
     "metadata": {},
     "output_type": "execute_result"
    }
   ],
   "source": [
    "ff.columns"
   ]
  },
  {
   "cell_type": "code",
   "execution_count": 42,
   "metadata": {},
   "outputs": [
    {
     "data": {
      "image/png": "[encoded data removed]",
      "text/plain": [
       "<Figure size 432x288 with 1 Axes>"
      ]
     },
     "metadata": {
      "needs_background": "light"
     },
     "output_type": "display_data"
    }
   ],
   "source": [
    "plt.hist(ff['stars'], bins=20, rwidth=0.9)\n",
    "plt.xlabel(\"Star rating\")\n",
    "plt.ylabel(\"Number of Routes\")\n",
    "plt.title(\"Quality of routes at Foster Falls\")\n",
    "plt.show()"
   ]
  },
  {
   "cell_type": "code",
   "execution_count": null,
   "metadata": {},
   "outputs": [],
   "source": []
  }
 ],
 "metadata": {
  "kernelspec": {
   "display_name": "Python 3",
   "language": "python",
   "name": "python3"
  },
  "language_info": {
   "codemirror_mode": {
    "name": "ipython",
    "version": 3
   },
   "file_extension": ".py",
   "mimetype": "text/x-python",
   "name": "python",
   "nbconvert_exporter": "python",
   "pygments_lexer": "ipython3",
   "version": "3.6.12"
  }
 },
 "nbformat": 4,
 "nbformat_minor": 4
}
