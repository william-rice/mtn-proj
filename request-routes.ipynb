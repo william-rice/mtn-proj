{
 "cells": [
  {
   "cell_type": "markdown",
   "metadata": {},
   "source": [
    "# Request Routes\n",
    "Requests the supplementary data from the Mountain Project API."
   ]
  },
  {
   "cell_type": "code",
   "execution_count": 36,
   "metadata": {},
   "outputs": [],
   "source": [
    "import os\n",
    "import re\n",
    "import math\n",
    "import yaml\n",
    "import requests\n",
    "import json\n",
    "import pandas as pd"
   ]
  },
  {
   "cell_type": "markdown",
   "metadata": {},
   "source": [
    "### Get the Route IDs"
   ]
  },
  {
   "cell_type": "markdown",
   "metadata": {},
   "source": [
    "The API provides a few cumbersome methods, but the most useful for this project is going to be the `getRoutes()` method. This method takes the nine-digit routeIDs as an argument. Luckily, the URL for each route contains this identifier, and  `\"Route URL\"` is a column in our scraped.csv file."
   ]
  },
  {
   "cell_type": "code",
   "execution_count": 4,
   "metadata": {},
   "outputs": [],
   "source": [
    "scraped = pd.read_csv(\"scraped.csv\")"
   ]
  },
  {
   "cell_type": "code",
   "execution_count": 5,
   "metadata": {},
   "outputs": [
    {
     "data": {
      "text/plain": [
       "'https://www.mountainproject.com/route/105979968/dreamscape'"
      ]
     },
     "execution_count": 5,
     "metadata": {},
     "output_type": "execute_result"
    }
   ],
   "source": [
    "scraped[\"URL\"][0]"
   ]
  },
  {
   "cell_type": "markdown",
   "metadata": {},
   "source": [
    "From each row, we need to pull out this identifier-----------^"
   ]
  },
  {
   "cell_type": "code",
   "execution_count": 6,
   "metadata": {},
   "outputs": [
    {
     "data": {
      "text/plain": [
       "'105979968'"
      ]
     },
     "execution_count": 6,
     "metadata": {},
     "output_type": "execute_result"
    }
   ],
   "source": [
    "re.search(\"\\d{9}\", scraped[\"URL\"][0]).group() # For one row"
   ]
  },
  {
   "cell_type": "markdown",
   "metadata": {},
   "source": [
    "Add this identifier as a new column in the dataframe."
   ]
  },
  {
   "cell_type": "code",
   "execution_count": 7,
   "metadata": {},
   "outputs": [
    {
     "data": {
      "text/html": [
       "<div>\n",
       "<style scoped>\n",
       "    .dataframe tbody tr th:only-of-type {\n",
       "        vertical-align: middle;\n",
       "    }\n",
       "\n",
       "    .dataframe tbody tr th {\n",
       "        vertical-align: top;\n",
       "    }\n",
       "\n",
       "    .dataframe thead th {\n",
       "        text-align: right;\n",
       "    }\n",
       "</style>\n",
       "<table border=\"1\" class=\"dataframe\">\n",
       "  <thead>\n",
       "    <tr style=\"text-align: right;\">\n",
       "      <th></th>\n",
       "      <th>Unnamed: 0</th>\n",
       "      <th>Route</th>\n",
       "      <th>Location</th>\n",
       "      <th>URL</th>\n",
       "      <th>Avg Stars</th>\n",
       "      <th>Your Stars</th>\n",
       "      <th>Route Type</th>\n",
       "      <th>Rating</th>\n",
       "      <th>Pitches</th>\n",
       "      <th>Length</th>\n",
       "      <th>Area Latitude</th>\n",
       "      <th>Area Longitude</th>\n",
       "      <th>route_id</th>\n",
       "    </tr>\n",
       "  </thead>\n",
       "  <tbody>\n",
       "    <tr>\n",
       "      <th>0</th>\n",
       "      <td>0</td>\n",
       "      <td>Dreamscape</td>\n",
       "      <td>Sun Wall &gt; Sand Rock &gt; Alabama</td>\n",
       "      <td>https://www.mountainproject.com/route/10597996...</td>\n",
       "      <td>3.8</td>\n",
       "      <td>-1</td>\n",
       "      <td>Sport</td>\n",
       "      <td>5.11c</td>\n",
       "      <td>1</td>\n",
       "      <td>75.0</td>\n",
       "      <td>34.18041</td>\n",
       "      <td>-85.81555</td>\n",
       "      <td>105979968</td>\n",
       "    </tr>\n",
       "    <tr>\n",
       "      <th>1</th>\n",
       "      <td>1</td>\n",
       "      <td>Comfortably Numb</td>\n",
       "      <td>The Pinnacle &gt; Sand Rock &gt; Alabama</td>\n",
       "      <td>https://www.mountainproject.com/route/10590519...</td>\n",
       "      <td>3.6</td>\n",
       "      <td>-1</td>\n",
       "      <td>Trad, TR</td>\n",
       "      <td>5.9</td>\n",
       "      <td>1</td>\n",
       "      <td>120.0</td>\n",
       "      <td>34.17948</td>\n",
       "      <td>-85.81775</td>\n",
       "      <td>105905196</td>\n",
       "    </tr>\n",
       "  </tbody>\n",
       "</table>\n",
       "</div>"
      ],
      "text/plain": [
       "   Unnamed: 0             Route                            Location  \\\n",
       "0           0        Dreamscape      Sun Wall > Sand Rock > Alabama   \n",
       "1           1  Comfortably Numb  The Pinnacle > Sand Rock > Alabama   \n",
       "\n",
       "                                                 URL  Avg Stars  Your Stars  \\\n",
       "0  https://www.mountainproject.com/route/10597996...        3.8          -1   \n",
       "1  https://www.mountainproject.com/route/10590519...        3.6          -1   \n",
       "\n",
       "  Route Type Rating  Pitches  Length  Area Latitude  Area Longitude   route_id  \n",
       "0      Sport  5.11c        1    75.0       34.18041       -85.81555  105979968  \n",
       "1   Trad, TR    5.9        1   120.0       34.17948       -85.81775  105905196  "
      ]
     },
     "execution_count": 7,
     "metadata": {},
     "output_type": "execute_result"
    }
   ],
   "source": [
    "get_id = lambda entry: int(re.search(\"\\d{9}\", entry).group()) # for all rows (and as integers)\n",
    "scraped[\"route_id\"] = scraped[\"URL\"].apply(get_id)\n",
    "scraped.head(2)"
   ]
  },
  {
   "cell_type": "markdown",
   "metadata": {},
   "source": [
    "### Make the requests"
   ]
  },
  {
   "cell_type": "markdown",
   "metadata": {},
   "source": [
    "I'll first need to load in my private key for using the API.  \n",
    "You'll have to request access (it's pretty easy) on the site to get your own key."
   ]
  },
  {
   "cell_type": "code",
   "execution_count": 8,
   "metadata": {},
   "outputs": [],
   "source": [
    "yaml_path = \"~/mtn-proj/.mp-pkey.yaml\""
   ]
  },
  {
   "cell_type": "code",
   "execution_count": 9,
   "metadata": {},
   "outputs": [],
   "source": [
    "try:\n",
    "    with open(os.path.expanduser(yaml_path)) as file:\n",
    "        pkey = yaml.safe_load(file)\n",
    "except FileNotFoundError:\n",
    "    print(\"Cannot find file {}\".format(yaml_path))"
   ]
  },
  {
   "cell_type": "markdown",
   "metadata": {},
   "source": [
    "Here, I'm iteratively constructing the API method call."
   ]
  },
  {
   "cell_type": "code",
   "execution_count": 48,
   "metadata": {},
   "outputs": [],
   "source": [
    "def build_request_with_args(id_list_section):\n",
    "    request_template = \"https://www.mountainproject.com/data/get-routes?routeIds={}&key={}\".format(\"{}{}\",pkey)\n",
    "    for routeid in id_list_section:\n",
    "        request_template = request_template.format(routeid, \",{}{}\")\n",
    "    return request_template.replace(\",{}{}\", \"\") # to get rid of the last comma and template holders --> ,{}{}"
   ]
  },
  {
   "cell_type": "markdown",
   "metadata": {},
   "source": [
    "Create a folder to catch all the downloads."
   ]
  },
  {
   "cell_type": "code",
   "execution_count": 57,
   "metadata": {},
   "outputs": [],
   "source": [
    "try: \n",
    "    os.mkdir(\"json-routes\") \n",
    "except OSError as error: \n",
    "    print(error)"
   ]
  },
  {
   "cell_type": "markdown",
   "metadata": {},
   "source": [
    "Going through the list of routeIDs, requesting data for 200 routes at a time, and downloading that data to files within the folder we just made."
   ]
  },
  {
   "cell_type": "code",
   "execution_count": 58,
   "metadata": {},
   "outputs": [],
   "source": [
    "id_list = list(scraped[\"route_id\"])\n",
    "num_queries = math.ceil(len(id_list)/200)\n",
    "[first_index, last_index] = [0,200]\n",
    "\n",
    "for query_num in range(num_queries):\n",
    "    \n",
    "    next_200 = build_request_with_args(id_list[first_index:last_index])\n",
    "    \n",
    "    api_response = requests.get(next_200)\n",
    "    \n",
    "    with open(\"json-routes/route_set_{}.JSON\".format(query_num + 1), \"w\") as response_file:\n",
    "        json.dump(api_response.json(), response_file, indent=4)\n",
    "        \n",
    "    first_index += 200\n",
    "    last_index += 200"
   ]
  },
  {
   "cell_type": "markdown",
   "metadata": {},
   "source": [
    "This took about 5 seconds for 500 routes, and they take up 400KB of space.  \n",
    "\n",
    "So if there are 50,000 routes in North America, it will take roughly 10 minutes to download all the routes and they will take up 200MB of space. Totally doable."
   ]
  }
 ],
 "metadata": {
  "kernelspec": {
   "display_name": "Python 3",
   "language": "python",
   "name": "python3"
  },
  "language_info": {
   "codemirror_mode": {
    "name": "ipython",
    "version": 3
   },
   "file_extension": ".py",
   "mimetype": "text/x-python",
   "name": "python",
   "nbconvert_exporter": "python",
   "pygments_lexer": "ipython3",
   "version": "3.6.12"
  }
 },
 "nbformat": 4,
 "nbformat_minor": 4
}
