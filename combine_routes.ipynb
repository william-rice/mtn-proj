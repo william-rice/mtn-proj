{
 "cells": [
  {
   "cell_type": "markdown",
   "metadata": {},
   "source": [
    "# Combine Routes"
   ]
  },
  {
   "cell_type": "markdown",
   "metadata": {},
   "source": [
    "Merges the CSV route data with the JSON route data."
   ]
  },
  {
   "cell_type": "code",
   "execution_count": 72,
   "metadata": {},
   "outputs": [],
   "source": [
    "import pandas as pd\n",
    "import re\n",
    "import os\n",
    "import json"
   ]
  },
  {
   "cell_type": "markdown",
   "metadata": {},
   "source": [
    "### Read in the CSV data"
   ]
  },
  {
   "cell_type": "code",
   "execution_count": 4,
   "metadata": {},
   "outputs": [],
   "source": [
    "scraped = pd.read_csv(\"scraped.csv\")"
   ]
  },
  {
   "cell_type": "markdown",
   "metadata": {},
   "source": [
    "### Read in the JSON data"
   ]
  },
  {
   "cell_type": "code",
   "execution_count": 6,
   "metadata": {},
   "outputs": [],
   "source": [
    "directory = \"json-routes\""
   ]
  },
  {
   "cell_type": "markdown",
   "metadata": {},
   "source": [
    "Define a function to create a pandas dataframe from the `\"routes\"` entry in the JSON file."
   ]
  },
  {
   "cell_type": "code",
   "execution_count": 39,
   "metadata": {},
   "outputs": [],
   "source": [
    "def json_to_df(json_file):\n",
    "    json_dict = json.load(json_file)\n",
    "    just_routes = json_dict[\"routes\"]\n",
    "    return pd.DataFrame(just_routes)"
   ]
  },
  {
   "cell_type": "markdown",
   "metadata": {},
   "source": [
    "Go through every JSON file in the folder, unioning their route data into one dataframe."
   ]
  },
  {
   "cell_type": "code",
   "execution_count": 47,
   "metadata": {},
   "outputs": [],
   "source": [
    "directory = \"json-routes\"\n",
    "requested = []\n",
    "for file in os.scandir(directory):\n",
    "    with open(file.path, \"r\") as json_file:\n",
    "        if len(requested):\n",
    "            requested = pd.concat([requested, json_to_df(json_file)])\n",
    "        else:\n",
    "            requested = json_to_df(json_file)"
   ]
  },
  {
   "cell_type": "markdown",
   "metadata": {},
   "source": [
    "### Merge the two datasets"
   ]
  },
  {
   "cell_type": "markdown",
   "metadata": {},
   "source": [
    "A lot of the data is overlapping, but there are a few features the API-pulled data has that the scraped data doesn't and vice-versa."
   ]
  },
  {
   "cell_type": "code",
   "execution_count": 69,
   "metadata": {},
   "outputs": [
    {
     "name": "stdout",
     "output_type": "stream",
     "text": [
      " scraped:\n",
      "\n",
      " Index(['Unnamed: 0', 'Route', 'Location', 'URL', 'Avg Stars', 'Your Stars',\n",
      "       'Route Type', 'Rating', 'Pitches', 'Length', 'Area Latitude',\n",
      "       'Area Longitude'],\n",
      "      dtype='object') \n",
      "\n",
      " requested:\n",
      "\n",
      " Index(['id', 'name', 'type', 'rating', 'stars', 'starVotes', 'pitches',\n",
      "       'location', 'url', 'imgSqSmall', 'imgSmall', 'imgSmallMed', 'imgMedium',\n",
      "       'longitude', 'latitude'],\n",
      "      dtype='object')\n"
     ]
    }
   ],
   "source": [
    "print(\" scraped:\\n\\n\", scraped.columns, \"\\n\\n\", \"requested:\\n\\n\", requested.columns)"
   ]
  },
  {
   "cell_type": "markdown",
   "metadata": {},
   "source": [
    "Specifically, the **scraped** data has the vertical *length* of the route (in feet), the *rating* I've personally given routes I've climbed, and the *\"Area\" lat/lon* instead of the *route lat/lon*. \n",
    "\n",
    "From a quick inspection, the lat/lon values are the same, if truncated to fewer decimal places in the scraped data.\n",
    "\n",
    "The **requested** data, on the other hand, has a *starVotes* column (a nice proxy for traffic) and the *image* links."
   ]
  },
  {
   "cell_type": "markdown",
   "metadata": {},
   "source": [
    "Before merging, I want to check for discrepancies between the two datasets. I'll start by adding a *route_id* column to the scraped dataframe."
   ]
  },
  {
   "cell_type": "code",
   "execution_count": 95,
   "metadata": {},
   "outputs": [],
   "source": [
    "get_id = lambda entry: int(re.search(\"\\d{9}\", entry).group())\n",
    "scraped[\"id\"] = scraped[\"URL\"].apply(get_id)"
   ]
  },
  {
   "cell_type": "markdown",
   "metadata": {},
   "source": [
    "The \"indices\" for both dataframes are not unique, so I'll use the route ID as the index instead."
   ]
  },
  {
   "cell_type": "code",
   "execution_count": 96,
   "metadata": {},
   "outputs": [],
   "source": [
    "scraped.index = scraped[\"id\"]\n",
    "requested.index = requested[\"id\"]"
   ]
  },
  {
   "cell_type": "markdown",
   "metadata": {},
   "source": [
    "Now we can order them by this new index and start comparing various columns' values."
   ]
  },
  {
   "cell_type": "code",
   "execution_count": 98,
   "metadata": {},
   "outputs": [
    {
     "data": {
      "text/html": [
       "<div>\n",
       "<style scoped>\n",
       "    .dataframe tbody tr th:only-of-type {\n",
       "        vertical-align: middle;\n",
       "    }\n",
       "\n",
       "    .dataframe tbody tr th {\n",
       "        vertical-align: top;\n",
       "    }\n",
       "\n",
       "    .dataframe thead th {\n",
       "        text-align: right;\n",
       "    }\n",
       "</style>\n",
       "<table border=\"1\" class=\"dataframe\">\n",
       "  <thead>\n",
       "    <tr style=\"text-align: right;\">\n",
       "      <th></th>\n",
       "      <th>Unnamed: 0</th>\n",
       "      <th>Route</th>\n",
       "      <th>Location</th>\n",
       "      <th>URL</th>\n",
       "      <th>Avg Stars</th>\n",
       "      <th>Your Stars</th>\n",
       "      <th>Route Type</th>\n",
       "      <th>Rating</th>\n",
       "      <th>Pitches</th>\n",
       "      <th>Length</th>\n",
       "      <th>Area Latitude</th>\n",
       "      <th>Area Longitude</th>\n",
       "      <th>route_id</th>\n",
       "      <th>id</th>\n",
       "    </tr>\n",
       "    <tr>\n",
       "      <th>id</th>\n",
       "      <th></th>\n",
       "      <th></th>\n",
       "      <th></th>\n",
       "      <th></th>\n",
       "      <th></th>\n",
       "      <th></th>\n",
       "      <th></th>\n",
       "      <th></th>\n",
       "      <th></th>\n",
       "      <th></th>\n",
       "      <th></th>\n",
       "      <th></th>\n",
       "      <th></th>\n",
       "      <th></th>\n",
       "    </tr>\n",
       "  </thead>\n",
       "  <tbody>\n",
       "    <tr>\n",
       "      <th>105979968</th>\n",
       "      <td>0</td>\n",
       "      <td>Dreamscape</td>\n",
       "      <td>Sun Wall &gt; Sand Rock &gt; Alabama</td>\n",
       "      <td>https://www.mountainproject.com/route/10597996...</td>\n",
       "      <td>3.8</td>\n",
       "      <td>-1</td>\n",
       "      <td>Sport</td>\n",
       "      <td>5.11c</td>\n",
       "      <td>1</td>\n",
       "      <td>75.0</td>\n",
       "      <td>34.18041</td>\n",
       "      <td>-85.81555</td>\n",
       "      <td>105979968</td>\n",
       "      <td>105979968</td>\n",
       "    </tr>\n",
       "    <tr>\n",
       "      <th>105905196</th>\n",
       "      <td>1</td>\n",
       "      <td>Comfortably Numb</td>\n",
       "      <td>The Pinnacle &gt; Sand Rock &gt; Alabama</td>\n",
       "      <td>https://www.mountainproject.com/route/10590519...</td>\n",
       "      <td>3.6</td>\n",
       "      <td>-1</td>\n",
       "      <td>Trad, TR</td>\n",
       "      <td>5.9</td>\n",
       "      <td>1</td>\n",
       "      <td>120.0</td>\n",
       "      <td>34.17948</td>\n",
       "      <td>-85.81775</td>\n",
       "      <td>105905196</td>\n",
       "      <td>105905196</td>\n",
       "    </tr>\n",
       "    <tr>\n",
       "      <th>105905421</th>\n",
       "      <td>2</td>\n",
       "      <td>Misty</td>\n",
       "      <td>Sun Wall &gt; Sand Rock &gt; Alabama</td>\n",
       "      <td>https://www.mountainproject.com/route/10590542...</td>\n",
       "      <td>3.6</td>\n",
       "      <td>-1</td>\n",
       "      <td>Sport</td>\n",
       "      <td>5.10b/c</td>\n",
       "      <td>1</td>\n",
       "      <td>90.0</td>\n",
       "      <td>34.18041</td>\n",
       "      <td>-85.81555</td>\n",
       "      <td>105905421</td>\n",
       "      <td>105905421</td>\n",
       "    </tr>\n",
       "    <tr>\n",
       "      <th>105926850</th>\n",
       "      <td>3</td>\n",
       "      <td>Oyster</td>\n",
       "      <td>Holiday Block &gt; Sand Rock &gt; Alabama</td>\n",
       "      <td>https://www.mountainproject.com/route/10592685...</td>\n",
       "      <td>3.1</td>\n",
       "      <td>-1</td>\n",
       "      <td>Sport</td>\n",
       "      <td>5.10a</td>\n",
       "      <td>1</td>\n",
       "      <td>80.0</td>\n",
       "      <td>34.17961</td>\n",
       "      <td>-85.81790</td>\n",
       "      <td>105926850</td>\n",
       "      <td>105926850</td>\n",
       "    </tr>\n",
       "    <tr>\n",
       "      <th>105930746</th>\n",
       "      <td>4</td>\n",
       "      <td>Pigs in Zen (Tuesday's Gone)</td>\n",
       "      <td>Holiday Block &gt; Sand Rock &gt; Alabama</td>\n",
       "      <td>https://www.mountainproject.com/route/10593074...</td>\n",
       "      <td>3.0</td>\n",
       "      <td>-1</td>\n",
       "      <td>Sport</td>\n",
       "      <td>5.10d</td>\n",
       "      <td>1</td>\n",
       "      <td>70.0</td>\n",
       "      <td>34.17961</td>\n",
       "      <td>-85.81790</td>\n",
       "      <td>105930746</td>\n",
       "      <td>105930746</td>\n",
       "    </tr>\n",
       "  </tbody>\n",
       "</table>\n",
       "</div>"
      ],
      "text/plain": [
       "           Unnamed: 0                         Route  \\\n",
       "id                                                    \n",
       "105979968           0                    Dreamscape   \n",
       "105905196           1              Comfortably Numb   \n",
       "105905421           2                         Misty   \n",
       "105926850           3                        Oyster   \n",
       "105930746           4  Pigs in Zen (Tuesday's Gone)   \n",
       "\n",
       "                                      Location  \\\n",
       "id                                               \n",
       "105979968       Sun Wall > Sand Rock > Alabama   \n",
       "105905196   The Pinnacle > Sand Rock > Alabama   \n",
       "105905421       Sun Wall > Sand Rock > Alabama   \n",
       "105926850  Holiday Block > Sand Rock > Alabama   \n",
       "105930746  Holiday Block > Sand Rock > Alabama   \n",
       "\n",
       "                                                         URL  Avg Stars  \\\n",
       "id                                                                        \n",
       "105979968  https://www.mountainproject.com/route/10597996...        3.8   \n",
       "105905196  https://www.mountainproject.com/route/10590519...        3.6   \n",
       "105905421  https://www.mountainproject.com/route/10590542...        3.6   \n",
       "105926850  https://www.mountainproject.com/route/10592685...        3.1   \n",
       "105930746  https://www.mountainproject.com/route/10593074...        3.0   \n",
       "\n",
       "           Your Stars Route Type   Rating  Pitches  Length  Area Latitude  \\\n",
       "id                                                                          \n",
       "105979968          -1      Sport    5.11c        1    75.0       34.18041   \n",
       "105905196          -1   Trad, TR      5.9        1   120.0       34.17948   \n",
       "105905421          -1      Sport  5.10b/c        1    90.0       34.18041   \n",
       "105926850          -1      Sport    5.10a        1    80.0       34.17961   \n",
       "105930746          -1      Sport    5.10d        1    70.0       34.17961   \n",
       "\n",
       "           Area Longitude   route_id         id  \n",
       "id                                               \n",
       "105979968       -85.81555  105979968  105979968  \n",
       "105905196       -85.81775  105905196  105905196  \n",
       "105905421       -85.81555  105905421  105905421  \n",
       "105926850       -85.81790  105926850  105926850  \n",
       "105930746       -85.81790  105930746  105930746  "
      ]
     },
     "execution_count": 98,
     "metadata": {},
     "output_type": "execute_result"
    }
   ],
   "source": [
    "scraped.head()"
   ]
  },
  {
   "cell_type": "code",
   "execution_count": 91,
   "metadata": {},
   "outputs": [
    {
     "data": {
      "text/html": [
       "<div>\n",
       "<style scoped>\n",
       "    .dataframe tbody tr th:only-of-type {\n",
       "        vertical-align: middle;\n",
       "    }\n",
       "\n",
       "    .dataframe tbody tr th {\n",
       "        vertical-align: top;\n",
       "    }\n",
       "\n",
       "    .dataframe thead th {\n",
       "        text-align: right;\n",
       "    }\n",
       "</style>\n",
       "<table border=\"1\" class=\"dataframe\">\n",
       "  <thead>\n",
       "    <tr style=\"text-align: right;\">\n",
       "      <th></th>\n",
       "      <th>id</th>\n",
       "      <th>name</th>\n",
       "      <th>type</th>\n",
       "      <th>rating</th>\n",
       "      <th>stars</th>\n",
       "      <th>starVotes</th>\n",
       "      <th>pitches</th>\n",
       "      <th>location</th>\n",
       "      <th>url</th>\n",
       "      <th>imgSqSmall</th>\n",
       "      <th>imgSmall</th>\n",
       "      <th>imgSmallMed</th>\n",
       "      <th>imgMedium</th>\n",
       "      <th>longitude</th>\n",
       "      <th>latitude</th>\n",
       "    </tr>\n",
       "    <tr>\n",
       "      <th>id</th>\n",
       "      <th></th>\n",
       "      <th></th>\n",
       "      <th></th>\n",
       "      <th></th>\n",
       "      <th></th>\n",
       "      <th></th>\n",
       "      <th></th>\n",
       "      <th></th>\n",
       "      <th></th>\n",
       "      <th></th>\n",
       "      <th></th>\n",
       "      <th></th>\n",
       "      <th></th>\n",
       "      <th></th>\n",
       "      <th></th>\n",
       "    </tr>\n",
       "  </thead>\n",
       "  <tbody>\n",
       "    <tr>\n",
       "      <th>105888407</th>\n",
       "      <td>105888407</td>\n",
       "      <td>It's All Good</td>\n",
       "      <td>Sport</td>\n",
       "      <td>5.9+</td>\n",
       "      <td>3.6</td>\n",
       "      <td>38</td>\n",
       "      <td>1</td>\n",
       "      <td>[Tennessee, Foster Falls, Gutbuster Area]</td>\n",
       "      <td>https://www.mountainproject.com/route/10588840...</td>\n",
       "      <td>https://cdn2.apstatic.com/photos/climb/1059769...</td>\n",
       "      <td>https://cdn2.apstatic.com/photos/climb/1059769...</td>\n",
       "      <td>https://cdn2.apstatic.com/photos/climb/1059769...</td>\n",
       "      <td>https://cdn2.apstatic.com/photos/climb/1059769...</td>\n",
       "      <td>-85.6837</td>\n",
       "      <td>35.1769</td>\n",
       "    </tr>\n",
       "    <tr>\n",
       "      <th>105892528</th>\n",
       "      <td>105892528</td>\n",
       "      <td>Mammy</td>\n",
       "      <td>Sport</td>\n",
       "      <td>5.9</td>\n",
       "      <td>3.2</td>\n",
       "      <td>146</td>\n",
       "      <td>1</td>\n",
       "      <td>[Tennessee, Foster Falls, Jimmywood]</td>\n",
       "      <td>https://www.mountainproject.com/route/10589252...</td>\n",
       "      <td>https://cdn2.apstatic.com/photos/climb/1060315...</td>\n",
       "      <td>https://cdn2.apstatic.com/photos/climb/1060315...</td>\n",
       "      <td>https://cdn2.apstatic.com/photos/climb/1060315...</td>\n",
       "      <td>https://cdn2.apstatic.com/photos/climb/1060315...</td>\n",
       "      <td>-85.6825</td>\n",
       "      <td>35.1771</td>\n",
       "    </tr>\n",
       "    <tr>\n",
       "      <th>105892538</th>\n",
       "      <td>105892538</td>\n",
       "      <td>Afterburner</td>\n",
       "      <td>Sport</td>\n",
       "      <td>5.5</td>\n",
       "      <td>3.1</td>\n",
       "      <td>137</td>\n",
       "      <td>1</td>\n",
       "      <td>[Tennessee, Foster Falls, Rocket Slab]</td>\n",
       "      <td>https://www.mountainproject.com/route/10589253...</td>\n",
       "      <td>https://cdn2.apstatic.com/photos/climb/1061404...</td>\n",
       "      <td>https://cdn2.apstatic.com/photos/climb/1061404...</td>\n",
       "      <td>https://cdn2.apstatic.com/photos/climb/1061404...</td>\n",
       "      <td>https://cdn2.apstatic.com/photos/climb/1061404...</td>\n",
       "      <td>-85.6842</td>\n",
       "      <td>35.1767</td>\n",
       "    </tr>\n",
       "    <tr>\n",
       "      <th>105892543</th>\n",
       "      <td>105892543</td>\n",
       "      <td>Gravity Boots</td>\n",
       "      <td>Sport</td>\n",
       "      <td>5.7</td>\n",
       "      <td>3.1</td>\n",
       "      <td>158</td>\n",
       "      <td>1</td>\n",
       "      <td>[Tennessee, Foster Falls, Rocket Slab]</td>\n",
       "      <td>https://www.mountainproject.com/route/10589254...</td>\n",
       "      <td>https://cdn2.apstatic.com/photos/climb/1062510...</td>\n",
       "      <td>https://cdn2.apstatic.com/photos/climb/1062510...</td>\n",
       "      <td>https://cdn2.apstatic.com/photos/climb/1062510...</td>\n",
       "      <td>https://cdn2.apstatic.com/photos/climb/1062510...</td>\n",
       "      <td>-85.6842</td>\n",
       "      <td>35.1767</td>\n",
       "    </tr>\n",
       "    <tr>\n",
       "      <th>105893863</th>\n",
       "      <td>105893863</td>\n",
       "      <td>Bottom Feeder</td>\n",
       "      <td>Sport</td>\n",
       "      <td>5.12a</td>\n",
       "      <td>2.6</td>\n",
       "      <td>14</td>\n",
       "      <td>1</td>\n",
       "      <td>[Tennessee, Foster Falls, White Wall]</td>\n",
       "      <td>https://www.mountainproject.com/route/10589386...</td>\n",
       "      <td>https://cdn2.apstatic.com/photos/climb/1182717...</td>\n",
       "      <td>https://cdn2.apstatic.com/photos/climb/1182717...</td>\n",
       "      <td>https://cdn2.apstatic.com/photos/climb/1182717...</td>\n",
       "      <td>https://cdn2.apstatic.com/photos/climb/1182717...</td>\n",
       "      <td>-85.6778</td>\n",
       "      <td>35.1795</td>\n",
       "    </tr>\n",
       "  </tbody>\n",
       "</table>\n",
       "</div>"
      ],
      "text/plain": [
       "                  id           name   type rating  stars  starVotes pitches  \\\n",
       "id                                                                            \n",
       "105888407  105888407  It's All Good  Sport   5.9+    3.6         38       1   \n",
       "105892528  105892528          Mammy  Sport    5.9    3.2        146       1   \n",
       "105892538  105892538    Afterburner  Sport    5.5    3.1        137       1   \n",
       "105892543  105892543  Gravity Boots  Sport    5.7    3.1        158       1   \n",
       "105893863  105893863  Bottom Feeder  Sport  5.12a    2.6         14       1   \n",
       "\n",
       "                                            location  \\\n",
       "id                                                     \n",
       "105888407  [Tennessee, Foster Falls, Gutbuster Area]   \n",
       "105892528       [Tennessee, Foster Falls, Jimmywood]   \n",
       "105892538     [Tennessee, Foster Falls, Rocket Slab]   \n",
       "105892543     [Tennessee, Foster Falls, Rocket Slab]   \n",
       "105893863      [Tennessee, Foster Falls, White Wall]   \n",
       "\n",
       "                                                         url  \\\n",
       "id                                                             \n",
       "105888407  https://www.mountainproject.com/route/10588840...   \n",
       "105892528  https://www.mountainproject.com/route/10589252...   \n",
       "105892538  https://www.mountainproject.com/route/10589253...   \n",
       "105892543  https://www.mountainproject.com/route/10589254...   \n",
       "105893863  https://www.mountainproject.com/route/10589386...   \n",
       "\n",
       "                                                  imgSqSmall  \\\n",
       "id                                                             \n",
       "105888407  https://cdn2.apstatic.com/photos/climb/1059769...   \n",
       "105892528  https://cdn2.apstatic.com/photos/climb/1060315...   \n",
       "105892538  https://cdn2.apstatic.com/photos/climb/1061404...   \n",
       "105892543  https://cdn2.apstatic.com/photos/climb/1062510...   \n",
       "105893863  https://cdn2.apstatic.com/photos/climb/1182717...   \n",
       "\n",
       "                                                    imgSmall  \\\n",
       "id                                                             \n",
       "105888407  https://cdn2.apstatic.com/photos/climb/1059769...   \n",
       "105892528  https://cdn2.apstatic.com/photos/climb/1060315...   \n",
       "105892538  https://cdn2.apstatic.com/photos/climb/1061404...   \n",
       "105892543  https://cdn2.apstatic.com/photos/climb/1062510...   \n",
       "105893863  https://cdn2.apstatic.com/photos/climb/1182717...   \n",
       "\n",
       "                                                 imgSmallMed  \\\n",
       "id                                                             \n",
       "105888407  https://cdn2.apstatic.com/photos/climb/1059769...   \n",
       "105892528  https://cdn2.apstatic.com/photos/climb/1060315...   \n",
       "105892538  https://cdn2.apstatic.com/photos/climb/1061404...   \n",
       "105892543  https://cdn2.apstatic.com/photos/climb/1062510...   \n",
       "105893863  https://cdn2.apstatic.com/photos/climb/1182717...   \n",
       "\n",
       "                                                   imgMedium  longitude  \\\n",
       "id                                                                        \n",
       "105888407  https://cdn2.apstatic.com/photos/climb/1059769...   -85.6837   \n",
       "105892528  https://cdn2.apstatic.com/photos/climb/1060315...   -85.6825   \n",
       "105892538  https://cdn2.apstatic.com/photos/climb/1061404...   -85.6842   \n",
       "105892543  https://cdn2.apstatic.com/photos/climb/1062510...   -85.6842   \n",
       "105893863  https://cdn2.apstatic.com/photos/climb/1182717...   -85.6778   \n",
       "\n",
       "           latitude  \n",
       "id                   \n",
       "105888407   35.1769  \n",
       "105892528   35.1771  \n",
       "105892538   35.1767  \n",
       "105892543   35.1767  \n",
       "105893863   35.1795  "
      ]
     },
     "execution_count": 91,
     "metadata": {},
     "output_type": "execute_result"
    }
   ],
   "source": []
  },
  {
   "cell_type": "code",
   "execution_count": 2,
   "metadata": {},
   "outputs": [],
   "source": [
    "#compare lat/lon data"
   ]
  },
  {
   "cell_type": "code",
   "execution_count": null,
   "metadata": {},
   "outputs": [],
   "source": [
    "#for each file in directory: \n",
    "#pd.read_json() \n",
    "#pd.read_csv(scraped_csv_with_routid)"
   ]
  }
 ],
 "metadata": {
  "kernelspec": {
   "display_name": "Python 3",
   "language": "python",
   "name": "python3"
  },
  "language_info": {
   "codemirror_mode": {
    "name": "ipython",
    "version": 3
   },
   "file_extension": ".py",
   "mimetype": "text/x-python",
   "name": "python",
   "nbconvert_exporter": "python",
   "pygments_lexer": "ipython3",
   "version": "3.6.12"
  }
 },
 "nbformat": 4,
 "nbformat_minor": 4
}
